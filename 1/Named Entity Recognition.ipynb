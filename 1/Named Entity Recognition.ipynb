{
 "cells": [
  {
   "cell_type": "code",
   "execution_count": 1,
   "id": "63ac6ed6",
   "metadata": {},
   "outputs": [],
   "source": [
    "#!pip install spacy\n",
    "#!python -m spacy download en_core_web_sm"
   ]
  },
  {
   "cell_type": "code",
   "execution_count": 2,
   "id": "73d4cf4d",
   "metadata": {},
   "outputs": [],
   "source": [
    "#!python -m spacy download en_core_web_sm"
   ]
  },
  {
   "cell_type": "code",
   "execution_count": 3,
   "id": "d6a1f5cc",
   "metadata": {},
   "outputs": [],
   "source": [
    "import spacy\n",
    "from spacy.matcher import Matcher"
   ]
  },
  {
   "cell_type": "code",
   "execution_count": 4,
   "id": "149c5aa0",
   "metadata": {},
   "outputs": [],
   "source": [
    "nlp = spacy.load('en_core_web_sm')"
   ]
  },
  {
   "cell_type": "code",
   "execution_count": 5,
   "id": "a7bb2eca",
   "metadata": {},
   "outputs": [],
   "source": [
    "input_file_path =\"C://Users//lenovo//Downloads//Input file for ADS 1.txt\"\n",
    "output_file_path =\"C://Users//lenovo//Downloads//Output file for ADS 1.txt\""
   ]
  },
  {
   "cell_type": "code",
   "execution_count": 6,
   "id": "36907625",
   "metadata": {},
   "outputs": [],
   "source": [
    "    # Read the input file\n",
    "with open(input_file_path, \"r\") as f:\n",
    " text = f.read()"
   ]
  },
  {
   "cell_type": "code",
   "execution_count": 7,
   "id": "4d6eeaa7",
   "metadata": {},
   "outputs": [],
   "source": [
    "# Process the text using spaCy\n",
    "doc = nlp(text)"
   ]
  },
  {
   "cell_type": "code",
   "execution_count": 8,
   "id": "ef167779",
   "metadata": {},
   "outputs": [],
   "source": [
    "# Initialize an empty list to store the named entities\n",
    "entities = []"
   ]
  },
  {
   "cell_type": "code",
   "execution_count": 9,
   "id": "d4a8c47b",
   "metadata": {},
   "outputs": [],
   "source": [
    "# Iterate through the named entities in the document\n",
    "for ent in doc.ents:\n",
    "    # Append the named entity to the list\n",
    "    entities.append((ent.text, ent.start_char, ent.end_char, ent.label_))"
   ]
  },
  {
   "cell_type": "code",
   "execution_count": 10,
   "id": "317a69e1",
   "metadata": {},
   "outputs": [],
   "source": [
    "# Write the named entities to the output file\n",
    "with open(output_file_path, \"w\") as f:\n",
    "    for ent in entities:\n",
    "        f.write(f\"{ent[0]} {ent[1]} {ent[2]} {ent[3]}\\n\")"
   ]
  },
  {
   "cell_type": "code",
   "execution_count": 11,
   "id": "13f67d6b",
   "metadata": {},
   "outputs": [
    {
     "name": "stdout",
     "output_type": "stream",
     "text": [
      "Moyes U-turn 0 12 PERSON\n",
      "\n",
      "Beattie 16 23 PERSON\n",
      "\n",
      "Everton 35 42 PERSON\n",
      "\n",
      "David Moyes 51 62 PERSON\n",
      "\n",
      "James Beattie 87 100 PERSON\n",
      "\n",
      "Chelsea 131 138 ORG\n",
      "\n",
      "William Gallas 148 162 PERSON\n",
      "\n",
      "Scot 169 173 ORG\n",
      "\n",
      "Beattie 193 200 PERSON\n",
      "\n",
      "Everton 222 229 PERSON\n",
      "\n",
      "1 278 279 CARDINAL\n",
      "\n",
      "Gallas 290 296 PERSON\n",
      "\n",
      "Moyes 494 499 GPE\n",
      "\n",
      "Saturday 523 531 DATE\n",
      "\n",
      "Beattie 709 716 PERSON\n",
      "\n",
      "Saturday 747 755 DATE\n",
      "\n",
      "Gallas 775 781 PERSON\n",
      "\n",
      "Moyes 866 871 GPE\n",
      "\n",
      "James 1075 1080 PERSON\n",
      "\n",
      "Everton 1145 1152 ORG\n",
      "\n",
      "Chelsea 1433 1440 ORG\n",
      "\n",
      "Moyes 1522 1527 ORG\n",
      "\n",
      "a million years 1684 1699 DATE\n",
      "\n",
      "John Terry 1706 1716 PERSON\n",
      "\n",
      "Beattie 1981 1988 PERSON\n",
      "\n",
      "William Gallas 2173 2187 PERSON\n",
      "\n"
     ]
    }
   ],
   "source": [
    "#lets print outputs here also\n",
    "for ent in entities:\n",
    "    print(f\"{ent[0]} {ent[1]} {ent[2]} {ent[3]}\\n\")"
   ]
  },
  {
   "cell_type": "code",
   "execution_count": null,
   "id": "3cb5d98e",
   "metadata": {},
   "outputs": [],
   "source": []
  }
 ],
 "metadata": {
  "kernelspec": {
   "display_name": "Python 3 (ipykernel)",
   "language": "python",
   "name": "python3"
  },
  "language_info": {
   "codemirror_mode": {
    "name": "ipython",
    "version": 3
   },
   "file_extension": ".py",
   "mimetype": "text/x-python",
   "name": "python",
   "nbconvert_exporter": "python",
   "pygments_lexer": "ipython3",
   "version": "3.11.5"
  }
 },
 "nbformat": 4,
 "nbformat_minor": 5
}
